{
 "cells": [
  {
   "cell_type": "markdown",
   "metadata": {
    "colab_type": "text",
    "id": "nbcdrYXQKmsZ"
   },
   "source": [
    "# Github version"
   ]
  },
  {
   "cell_type": "code",
   "execution_count": 1,
   "metadata": {
    "colab": {
     "base_uri": "https://localhost:8080/",
     "height": 34
    },
    "colab_type": "code",
    "executionInfo": {
     "elapsed": 731,
     "status": "ok",
     "timestamp": 1558539032387,
     "user": {
      "displayName": "星野悠一郎",
      "photoUrl": "",
      "userId": "01671396302619379298"
     },
     "user_tz": -540
    },
    "id": "LHFe4AIHLiI9",
    "outputId": "f9880268-433f-445a-ab67-0fafea902427"
   },
   "outputs": [
    {
     "name": "stdout",
     "output_type": "stream",
     "text": [
      "Drive already mounted at /content/drive; to attempt to forcibly remount, call drive.mount(\"/content/drive\", force_remount=True).\n"
     ]
    }
   ],
   "source": [
    "from google.colab import drive\n",
    "drive.mount('/content/drive')"
   ]
  },
  {
   "cell_type": "code",
   "execution_count": 2,
   "metadata": {
    "colab": {
     "base_uri": "https://localhost:8080/",
     "height": 34
    },
    "colab_type": "code",
    "executionInfo": {
     "elapsed": 648,
     "status": "ok",
     "timestamp": 1558539060197,
     "user": {
      "displayName": "星野悠一郎",
      "photoUrl": "",
      "userId": "01671396302619379298"
     },
     "user_tz": -540
    },
    "id": "7orXpXJALrw1",
    "outputId": "cc120305-ef6f-4bd9-b1fb-bfb603430515"
   },
   "outputs": [
    {
     "name": "stdout",
     "output_type": "stream",
     "text": [
      "/content/drive/My Drive/Machine Learning/Github\n"
     ]
    }
   ],
   "source": [
    "cd drive/My\\ Drive/Machine\\ Learning/Github"
   ]
  },
  {
   "cell_type": "markdown",
   "metadata": {
    "colab_type": "text",
    "id": "LM9xsCpMLqar"
   },
   "source": [
    "## Parallel envs"
   ]
  },
  {
   "cell_type": "code",
   "execution_count": 0,
   "metadata": {
    "colab": {},
    "colab_type": "code",
    "id": "rQXxb2xeLsQe"
   },
   "outputs": [],
   "source": [
    "import numpy as np\n",
    "from parallel_envs.make_atari import make_atari_env"
   ]
  },
  {
   "cell_type": "code",
   "execution_count": 0,
   "metadata": {
    "colab": {},
    "colab_type": "code",
    "id": "Qg6swF90LubP"
   },
   "outputs": [],
   "source": [
    "envs = make_atari_env('MontezumaRevengeNoFrameskip-v4', num_env=3, seed=1)"
   ]
  },
  {
   "cell_type": "code",
   "execution_count": 20,
   "metadata": {
    "colab": {
     "base_uri": "https://localhost:8080/",
     "height": 34
    },
    "colab_type": "code",
    "executionInfo": {
     "elapsed": 573,
     "status": "ok",
     "timestamp": 1558539491869,
     "user": {
      "displayName": "星野悠一郎",
      "photoUrl": "",
      "userId": "01671396302619379298"
     },
     "user_tz": -540
    },
    "id": "wVTMHeciLyQQ",
    "outputId": "0858a475-f9be-459f-fdd6-8890bb48a705"
   },
   "outputs": [
    {
     "data": {
      "text/plain": [
       "(3, 4, 84, 84)"
      ]
     },
     "execution_count": 20,
     "metadata": {
      "tags": []
     },
     "output_type": "execute_result"
    }
   ],
   "source": [
    "s = envs.reset()\n",
    "s.shape"
   ]
  },
  {
   "cell_type": "code",
   "execution_count": 0,
   "metadata": {
    "colab": {},
    "colab_type": "code",
    "id": "ULZnvOpsL1qK"
   },
   "outputs": [],
   "source": [
    "import matplotlib\n",
    "import matplotlib.pyplot as plt\n",
    "import numpy as np\n",
    "\n",
    "def plot_frame(s, num_env):\n",
    "    fig, axs = plt.subplots(nrows=num_env, ncols=4, figsize=(14,14))\n",
    "    plt.gray()\n",
    "    for i in range(3):\n",
    "        for j in range(4):\n",
    "            axs[i,j].imshow(s[i,j])\n",
    "            axs[i,j].grid(False)\n",
    "            axs[i,j].set_title('env:{0}, frame:{1}'.format(i,j+1))\n",
    "            axs[i,j].tick_params(labelbottom=False, labelleft=False, labelright=False, labeltop=False)\n",
    "            "
   ]
  },
  {
   "cell_type": "code",
   "execution_count": 24,
   "metadata": {
    "colab": {
     "base_uri": "https://localhost:8080/",
     "height": 825
    },
    "colab_type": "code",
    "executionInfo": {
     "elapsed": 2194,
     "status": "ok",
     "timestamp": 1558539514334,
     "user": {
      "displayName": "星野悠一郎",
      "photoUrl": "",
      "userId": "01671396302619379298"
     },
     "user_tz": -540
    },
    "id": "TOSoYLnyMFuN",
    "outputId": "5db5522a-a545-4f1d-f4f6-d68535149d6e"
   },
   "outputs": [
    {
     "name": "stdout",
     "output_type": "stream",
     "text": [
      "[3, 17, 14]\n",
      "[0. 0. 0.]\n",
      "[False False False]\n",
      "({'ale.lives': 6}, {'ale.lives': 6}, {'ale.lives': 6})\n"
     ]
    },
    {
     "data": {
      "image/png": "[encoded data removed]",
      "text/plain": [
       "<Figure size 1008x1008 with 12 Axes>"
      ]
     },
     "metadata": {
      "tags": []
     },
     "output_type": "display_data"
    }
   ],
   "source": [
    "actions = [envs.action_space.sample() for _ in range(3)]\n",
    "print(actions)\n",
    "obs, r, dones, infos = envs.step(actions)\n",
    "print(r)\n",
    "print(dones)\n",
    "print(infos)\n",
    "\n",
    "plot_frame(obs, num_env=3)"
   ]
  },
  {
   "cell_type": "markdown",
   "metadata": {
    "colab_type": "text",
    "id": "IlSLanJ6L2bk"
   },
   "source": [
    "## Env for eval"
   ]
  },
  {
   "cell_type": "code",
   "execution_count": 0,
   "metadata": {
    "colab": {},
    "colab_type": "code",
    "id": "Lfcuz1RcLxYK"
   },
   "outputs": [],
   "source": [
    "import numpy as np\n",
    "from parallel_envs.make_atari import make_atari_env_for_eval"
   ]
  },
  {
   "cell_type": "code",
   "execution_count": 0,
   "metadata": {
    "colab": {},
    "colab_type": "code",
    "id": "fjhRIOL4Lzv-"
   },
   "outputs": [],
   "source": [
    "env = make_atari_env_for_eval('MontezumaRevengeNoFrameskip-v4', seed=0)"
   ]
  },
  {
   "cell_type": "code",
   "execution_count": 6,
   "metadata": {
    "colab": {
     "base_uri": "https://localhost:8080/",
     "height": 51
    },
    "colab_type": "code",
    "executionInfo": {
     "elapsed": 2023,
     "status": "ok",
     "timestamp": 1558539086630,
     "user": {
      "displayName": "星野悠一郎",
      "photoUrl": "",
      "userId": "01671396302619379298"
     },
     "user_tz": -540
    },
    "id": "jlSTrUXnL1Mc",
    "outputId": "706839f1-53c7-4a66-bff1-5b38c9abe040"
   },
   "outputs": [
    {
     "name": "stdout",
     "output_type": "stream",
     "text": [
      "(210, 160, 3)\n",
      "(1, 4, 84, 84)\n"
     ]
    }
   ],
   "source": [
    "_s, s = env.reset()\n",
    "print(_s.shape)\n",
    "print(s.shape)"
   ]
  },
  {
   "cell_type": "code",
   "execution_count": 0,
   "metadata": {
    "colab": {},
    "colab_type": "code",
    "id": "SfnxLaN08n7J"
   },
   "outputs": [],
   "source": [
    "import matplotlib\n",
    "import matplotlib.pyplot as plt\n",
    "import numpy as np\n",
    "\n",
    "def plot_original_and_gray_stack(o_frame, frames):\n",
    "    fig, axs = plt.subplots(1, ncols=5, figsize=(20,14))\n",
    "    \n",
    "    for i in range(4):\n",
    "        axs[i].imshow(frames[0,i], plt.cm.gray)\n",
    "        axs[i].tick_params(labelbottom=False, labelleft=False, labelright=False, labeltop=False)\n",
    "      \n",
    "    axs[4].imshow(o_frame)\n",
    "    axs[4].tick_params(labelbottom=False, labelleft=False, labelright=False, labeltop=False)"
   ]
  },
  {
   "cell_type": "code",
   "execution_count": 8,
   "metadata": {
    "colab": {
     "base_uri": "https://localhost:8080/",
     "height": 290
    },
    "colab_type": "code",
    "executionInfo": {
     "elapsed": 1734,
     "status": "ok",
     "timestamp": 1558539095145,
     "user": {
      "displayName": "星野悠一郎",
      "photoUrl": "",
      "userId": "01671396302619379298"
     },
     "user_tz": -540
    },
    "id": "f4s7whAJ9a_T",
    "outputId": "eeae5b45-339f-4d43-877e-dbbeb2f3020d"
   },
   "outputs": [
    {
     "data": {
      "image/png": "[encoded data removed]",
      "text/plain": [
       "<Figure size 1440x1008 with 5 Axes>"
      ]
     },
     "metadata": {
      "tags": []
     },
     "output_type": "display_data"
    }
   ],
   "source": [
    "plot_original_and_gray_stack(_s, s)"
   ]
  },
  {
   "cell_type": "code",
   "execution_count": 0,
   "metadata": {
    "colab": {},
    "colab_type": "code",
    "id": "paiMTWft-B1N"
   },
   "outputs": [],
   "source": [
    "_ = env.reset()"
   ]
  },
  {
   "cell_type": "code",
   "execution_count": 0,
   "metadata": {
    "colab": {
     "base_uri": "https://localhost:8080/",
     "height": 392
    },
    "colab_type": "code",
    "executionInfo": {
     "elapsed": 1637,
     "status": "ok",
     "timestamp": 1558537821420,
     "user": {
      "displayName": "星野悠一郎",
      "photoUrl": "",
      "userId": "01671396302619379298"
     },
     "user_tz": -540
    },
    "id": "nTK_8q7a9gwo",
    "outputId": "ee3a2ef8-8ca5-4488-d18d-e045816bb36e"
   },
   "outputs": [
    {
     "name": "stdout",
     "output_type": "stream",
     "text": [
      "0\n",
      "(210, 160, 3)\n",
      "(1, 4, 84, 84)\n",
      "0.0\n",
      "False\n",
      "{'ale.lives': 6}\n"
     ]
    },
    {
     "data": {
      "image/png": "[encoded data removed]",
      "text/plain": [
       "<Figure size 1440x1008 with 5 Axes>"
      ]
     },
     "metadata": {
      "tags": []
     },
     "output_type": "display_data"
    }
   ],
   "source": [
    "action = env.action_space.sample()\n",
    "print(action)\n",
    "(_ob, ob), r, dones, infos = env.step(action)\n",
    "\n",
    "print(_ob.shape)\n",
    "print(ob.shape)\n",
    "print(r)\n",
    "print(dones)\n",
    "print(infos)\n",
    "\n",
    "plot_original_and_gray_stack(_ob, np.array(ob))"
   ]
  },
  {
   "cell_type": "code",
   "execution_count": 0,
   "metadata": {
    "colab": {},
    "colab_type": "code",
    "id": "wqme0JNP97kg"
   },
   "outputs": [],
   "source": []
  }
 ],
 "metadata": {
  "colab": {
   "collapsed_sections": [],
   "name": "test_env_for_eval.ipynb",
   "provenance": [],
   "toc_visible": true,
   "version": "0.3.2"
  },
  "kernelspec": {
   "display_name": "Python 3",
   "language": "python",
   "name": "python3"
  },
  "language_info": {
   "codemirror_mode": {
    "name": "ipython",
    "version": 3
   },
   "file_extension": ".py",
   "mimetype": "text/x-python",
   "name": "python",
   "nbconvert_exporter": "python",
   "pygments_lexer": "ipython3",
   "version": "3.6.5"
  }
 },
 "nbformat": 4,
 "nbformat_minor": 1
}
